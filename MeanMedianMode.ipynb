{
 "cells": [
  {
   "cell_type": "markdown",
   "metadata": {
    "deletable": true,
    "editable": true
   },
   "source": [
    "# Mean, Median, Mode, and introducing NumPy"
   ]
  },
  {
   "cell_type": "markdown",
   "metadata": {
    "deletable": true,
    "editable": true
   },
   "source": [
    "## Mean vs. Median"
   ]
  },
  {
   "cell_type": "markdown",
   "metadata": {
    "deletable": true,
    "editable": true
   },
   "source": [
    "Let's create some fake income data, centered around 27,000 with a normal distribution and standard deviation of 15,000, with 10,000 data points. (We'll discuss those terms more later, if you're not familiar with them.)\n",
    "\n",
    "Then, compute the mean (average) - it should be close to 27,000:"
   ]
  },
  {
   "cell_type": "code",
   "execution_count": 5,
   "metadata": {
    "collapsed": false,
    "deletable": true,
    "editable": true
   },
   "outputs": [
    {
     "data": {
      "text/plain": [
       "26787.972558393656"
      ]
     },
     "execution_count": 5,
     "metadata": {},
     "output_type": "execute_result"
    }
   ],
   "source": [
    "import numpy as np\n",
    "\n",
    "incomes = np.random.normal(27000, 15000, 10000)\n",
    "np.mean(incomes)"
   ]
  },
  {
   "cell_type": "markdown",
   "metadata": {
    "deletable": true,
    "editable": true
   },
   "source": [
    "We can segment the income data into 50 buckets, and plot it as a histogram:"
   ]
  },
  {
   "cell_type": "code",
   "execution_count": 6,
   "metadata": {
    "collapsed": false,
    "deletable": true,
    "editable": true
   },
   "outputs": [
    {
     "data": {
      "image/png": "[encoded data removed]",
      "text/plain": [
       "<matplotlib.figure.Figure at 0x11e454128>"
      ]
     },
     "metadata": {},
     "output_type": "display_data"
    }
   ],
   "source": [
    "%matplotlib inline\n",
    "import matplotlib.pyplot as plt\n",
    "plt.hist(incomes, 50)\n",
    "plt.show()"
   ]
  },
  {
   "cell_type": "markdown",
   "metadata": {
    "deletable": true,
    "editable": true
   },
   "source": [
    "Now compute the median - since we have a nice, even distribution it too should be close to 27,000:"
   ]
  },
  {
   "cell_type": "code",
   "execution_count": 11,
   "metadata": {
    "collapsed": false,
    "deletable": true,
    "editable": true
   },
   "outputs": [
    {
     "data": {
      "text/plain": [
       "26780.837321587009"
      ]
     },
     "execution_count": 11,
     "metadata": {},
     "output_type": "execute_result"
    }
   ],
   "source": [
    "np.median(incomes)"
   ]
  },
  {
   "cell_type": "markdown",
   "metadata": {
    "deletable": true,
    "editable": true
   },
   "source": [
    "Now we'll add Donald Trump into the mix. Darn income inequality!"
   ]
  },
  {
   "cell_type": "code",
   "execution_count": 12,
   "metadata": {
    "collapsed": false,
    "deletable": true,
    "editable": true
   },
   "outputs": [],
   "source": [
    "incomes = np.append(incomes, [1000000000])"
   ]
  },
  {
   "cell_type": "markdown",
   "metadata": {
    "deletable": true,
    "editable": true
   },
   "source": [
    "The median won't change much, but the mean does:"
   ]
  },
  {
   "cell_type": "code",
   "execution_count": 13,
   "metadata": {
    "collapsed": false,
    "deletable": true,
    "editable": true
   },
   "outputs": [
    {
     "data": {
      "text/plain": [
       "26780.997004955818"
      ]
     },
     "execution_count": 13,
     "metadata": {},
     "output_type": "execute_result"
    }
   ],
   "source": [
    "np.median(incomes)"
   ]
  },
  {
   "cell_type": "code",
   "execution_count": 14,
   "metadata": {
    "collapsed": false,
    "deletable": true,
    "editable": true
   },
   "outputs": [
    {
     "data": {
      "text/plain": [
       "226742.62403358697"
      ]
     },
     "execution_count": 14,
     "metadata": {},
     "output_type": "execute_result"
    }
   ],
   "source": [
    "np.mean(incomes)"
   ]
  },
  {
   "cell_type": "markdown",
   "metadata": {
    "deletable": true,
    "editable": true
   },
   "source": [
    "## Mode"
   ]
  },
  {
   "cell_type": "markdown",
   "metadata": {
    "deletable": true,
    "editable": true
   },
   "source": [
    "Next, let's generate some fake age data for 500 people:"
   ]
  },
  {
   "cell_type": "code",
   "execution_count": 15,
   "metadata": {
    "collapsed": false,
    "deletable": true,
    "editable": true
   },
   "outputs": [
    {
     "data": {
      "text/plain": [
       "array([87, 41, 54, 48, 46, 66, 74, 26, 65, 50, 18, 63, 28, 45, 56, 75, 52,\n",
       "       78, 24, 80, 47, 74, 41, 74, 71, 64, 61, 65, 74, 22, 41, 23, 63, 51,\n",
       "       71, 53, 87, 86, 46, 59, 85, 43, 60, 68, 63, 28, 30, 59, 86, 25, 79,\n",
       "       47, 83, 35, 88, 78, 18, 23, 59, 34, 24, 72, 89, 78, 44, 79, 79, 20,\n",
       "       88, 73, 44, 83, 53, 43, 23, 48, 73, 30, 70, 43, 85, 87, 21, 74, 78,\n",
       "       66, 85, 33, 60, 68, 52, 87, 88, 69, 35, 45, 22, 24, 81, 56, 80, 84,\n",
       "       47, 62, 48, 69, 55, 53, 70, 32, 68, 36, 58, 68, 31, 73, 25, 36, 36,\n",
       "       64, 68, 81, 47, 19, 30, 50, 42, 41, 76, 54, 46, 62, 81, 48, 78, 32,\n",
       "       79, 44, 67, 77, 25, 82, 57, 74, 60, 76, 51, 35, 35, 80, 28, 22, 73,\n",
       "       26, 50, 22, 44, 70, 23, 71, 81, 82, 75, 29, 39, 59, 39, 33, 74, 55,\n",
       "       35, 40, 44, 83, 54, 55, 37, 75, 85, 68, 47, 31, 60, 56, 20, 67, 32,\n",
       "       70, 65, 67, 32, 87, 77, 64, 68, 21, 86, 51, 28, 36, 64, 49, 86, 48,\n",
       "       72, 47, 38, 36, 54, 34, 32, 83, 83, 65, 35, 18, 63, 30, 84, 56, 47,\n",
       "       70, 89, 62, 87, 18, 26, 50, 52, 25, 67, 78, 27, 78, 61, 59, 34, 79,\n",
       "       58, 33, 68, 69, 50, 31, 21, 21, 42, 74, 85, 62, 47, 40, 78, 60, 88,\n",
       "       48, 84, 65, 24, 68, 48, 21, 72, 36, 75, 75, 86, 35, 35, 42, 71, 85,\n",
       "       30, 34, 28, 86, 50, 75, 18, 48, 26, 25, 70, 30, 52, 77, 23, 76, 82,\n",
       "       66, 34, 29, 85, 67, 56, 88, 48, 88, 48, 77, 82, 22, 54, 43, 43, 25,\n",
       "       59, 84, 46, 36, 54, 33, 53, 77, 72, 70, 55, 55, 59, 57, 31, 44, 87,\n",
       "       58, 68, 41, 80, 64, 82, 51, 38, 36, 46, 20, 45, 41, 55, 38, 61, 46,\n",
       "       49, 25, 60, 74, 24, 77, 29, 62, 22, 73, 57, 22, 24, 58, 49, 77, 26,\n",
       "       64, 42, 24, 41, 29, 47, 61, 58, 58, 23, 38, 83, 29, 39, 29, 65, 25,\n",
       "       61, 26, 67, 54, 80, 88, 37, 43, 64, 39, 54, 37, 20, 49, 72, 47, 75,\n",
       "       36, 75, 56, 35, 85, 34, 51, 37, 67, 51, 47, 67, 41, 30, 88, 68, 21,\n",
       "       53, 34, 31, 78, 84, 77, 20, 23, 55, 65, 29, 53, 59, 23, 40, 28, 69,\n",
       "       24, 85, 23, 78, 58, 50, 70, 56, 41, 56, 32, 59, 36, 25, 73, 40, 54,\n",
       "       42, 33, 51, 74, 35, 81, 20, 85, 69, 37, 32, 80, 29, 24, 61, 32, 64,\n",
       "       83, 53, 46, 78, 31, 61, 46, 78, 71, 56, 20, 87, 63, 26, 18, 27, 41,\n",
       "       34, 46, 86, 46, 23, 67, 65, 70, 71, 84, 85, 88, 75, 77, 54, 81, 23,\n",
       "       22, 52, 60, 25, 30, 87, 28])"
      ]
     },
     "execution_count": 15,
     "metadata": {},
     "output_type": "execute_result"
    }
   ],
   "source": [
    "ages = np.random.randint(18, high=90, size=500)\n",
    "ages"
   ]
  },
  {
   "cell_type": "code",
   "execution_count": 16,
   "metadata": {
    "collapsed": false,
    "deletable": true,
    "editable": true
   },
   "outputs": [
    {
     "data": {
      "text/plain": [
       "ModeResult(mode=array([78]), count=array([12]))"
      ]
     },
     "execution_count": 16,
     "metadata": {},
     "output_type": "execute_result"
    }
   ],
   "source": [
    "from scipy import stats\n",
    "stats.mode(ages)"
   ]
  },
  {
   "cell_type": "code",
   "execution_count": null,
   "metadata": {
    "collapsed": false,
    "deletable": true,
    "editable": true
   },
   "outputs": [],
   "source": []
  }
 ],
 "metadata": {
  "kernelspec": {
   "display_name": "Python 3",
   "language": "python",
   "name": "python3"
  },
  "language_info": {
   "codemirror_mode": {
    "name": "ipython",
    "version": 3
   },
   "file_extension": ".py",
   "mimetype": "text/x-python",
   "name": "python",
   "nbconvert_exporter": "python",
   "pygments_lexer": "ipython3",
   "version": "3.5.2"
  }
 },
 "nbformat": 4,
 "nbformat_minor": 0
}
